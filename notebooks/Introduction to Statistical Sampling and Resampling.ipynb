{
 "cells": [
  {
   "cell_type": "markdown",
   "metadata": {},
   "source": [
    "# Introduction to Statistical Sampling and Resampling"
   ]
  },
  {
   "cell_type": "markdown",
   "metadata": {},
   "source": [
    "Written by [*kvs setty*](https://kvssetty.com/) 19th Aug 2020 in [Data Science](https://kvssetty.com/category/data-science/)"
   ]
  },
  {
   "cell_type": "markdown",
   "metadata": {},
   "source": [
    "Data is the crude oil of applied machine learning. Therefore, it is important that it is both collected and refined effectively before put to use.\n",
    "\n",
    "Data sampling refers to statistical methods for selecting observations from the domain with the objective of estimating a population parameter. Whereas data resampling refers to methods for economically using a collected dataset to improve the estimate of the population parameter and help to quantify the uncertainty of the estimate.\n",
    "\n",
    "Both data sampling and data resampling are methods that are required in a predictive modeling problem.\n",
    "\n",
    "In this tutorial, you will discover statistical sampling and statistical resampling methods for gathering and making best use of data.\n",
    "\n",
    "After completing this tutorial, you will know:\n",
    "\n",
    "- Sampling is an active process of gathering observations with the intent of estimating a population variable/parameter.\n",
    "- Resampling is a methodology of economically using a data sample to improve the accuracy of estimation and quantify the uncertainty of a population parameter.\n",
    "- Resampling methods, in fact, make use of a nested resampling method.\n",
    "\n",
    "**Note:** In statistics *sample* means a set examples or observations.\n",
    "          Where as in Machine learning *sample* means a single example or obsevation. A clear clash of jargons.   \n",
    "          \n",
    "\n",
    "Kick-start your Data Science journey with my [five approches to learning](https://medium.com/@kvssetty/pancha-suthras-for-data-science-and-machine-learning-763b6995b92?source=friends_link&sk=129ead63bfb28ddc705e9601d218c887) Data Science and MachineLearning.\n",
    "\n",
    "Let’s get started."
   ]
  },
  {
   "cell_type": "markdown",
   "metadata": {},
   "source": [
    "![random-sampling](../images/random-sampling-smaller.jpg)"
   ]
  },
  {
   "cell_type": "markdown",
   "metadata": {},
   "source": [
    "## Tutorial Overview\n",
    "This tutorial is divided into 2 parts; they are:\n",
    "\n",
    "- **Statistical Sampling**\n",
    "- **Statistical Resampling**\n"
   ]
  },
  {
   "cell_type": "markdown",
   "metadata": {},
   "source": [
    "## Statistical Sampling\n",
    "Each row of data represents an observation about something in the expirement or survey you are interested in.\n",
    "\n",
    "When working with data, we often do not have access to all possible observations (if we had then there is no need of modelling at all). This could be for many reasons; for example:\n",
    "\n",
    "- It may difficult or expensive to make more observations (imagine the time and cost involved in taking the height and weight of each and every Indian). \n",
    "- It may be challenging to gather all observations together.\n",
    "- More observations are expected to be made in the future.\n",
    "\n",
    "Observations made in a domain represent samples of some broader idealized and unknown population of all possible observations that could be made in the domain. This is a useful conceptualization as we can see the separation and relationship between observations and the idealized population.\n",
    "\n",
    "We can also see that, even if we intend to use **big data** infrastructure on all available data, that the data still represents a sample of observations from an idealized population.\n",
    "\n",
    "Nevertheless, we may wish to estimate properties of the population. We do this by using samples of observations.\n",
    "\n",
    ">Sampling consists of selecting some part of the population to observe so that one may estimate something about the whole population.\n",
    "\n",
    "— Page 1, [Sampling](https://www.amazon.in/Sampling-Steven-K-Thompson-ebook/dp/B0078XBZ6K/ref=sr_1_fkmr0_1?dchild=1&keywords=Sampling+3rd+Edition+by+Steven+K.+Thompson&qid=1597809716&s=books&sr=1-1-fkmr0), Third Edition, 2012."
   ]
  },
  {
   "cell_type": "markdown",
   "metadata": {},
   "source": [
    "### How to Sample\n",
    "Statistical sampling is the process of selecting subsets of examples from a population with the objective of estimating properties of the population.\n",
    "\n",
    "Sampling is an active process. There is a goal of estimating population properties and control over how the sampling is to occur. This control falls short of influencing the process that generates each observation, such as performing an experiment. As such, sampling as a field sits neatly between uncontrolled observation and controlled experimentation.\n",
    "\n",
    ">Sampling is usually distinguished from the closely related field of experimental design, in that in experiments one deliberately perturbs some part of the population in order to see what the effect of that action is. […] Sampling is also usually distinguished from observational studies, in which one has little or no control over how the observations on the population were obtained.\n",
    "\n",
    "— Pages 1-2, [Sampling](https://www.amazon.in/Sampling-Steven-K-Thompson-ebook/dp/B0078XBZ6K/ref=sr_1_fkmr0_1?dchild=1&keywords=Sampling+3rd+Edition+by+Steven+K.+Thompson&qid=1597809716&s=books&sr=1-1-fkmr0), Third Edition, 2012.\n",
    "\n",
    "There are many benefits to sampling compared to working with population or complete datasets, including reduced cost and greater speed.\n",
    "\n",
    "In order to perform sampling, it requires that you carefully define your population and the method by which you will select (and possibly reject) observations to be a part of your data sample. This may very well be defined by the population parameters that you wish to estimate using the sample.\n",
    "\n",
    "Some aspects to consider prior to collecting a data sample include:\n",
    "\n",
    "- **Sample Goal:**  The population property that you wish to estimate using the sample.\n",
    "- **Population:**  The scope or domain from which observations could theoretically be made.\n",
    "- **Selection Criteria:**  The methodology that will be used to accept or reject observations in your sample.\n",
    "- **Sample Size:**  The number of observations that will constitute the sample."
   ]
  },
  {
   "cell_type": "markdown",
   "metadata": {},
   "source": [
    ">Some obvious questions […] are how best to obtain the sample and make the observations and, once the sample data are in hand, how best to use them to estimate the characteristics of the whole population. Obtaining the observations involves questions of sample size, how to select the sample, what observational methods to use, and what measurements to record.\n",
    "\n",
    "— Page 1, [Sampling](https://www.amazon.in/Sampling-Steven-K-Thompson-ebook/dp/B0078XBZ6K/ref=sr_1_fkmr0_1?dchild=1&keywords=Sampling+3rd+Edition+by+Steven+K.+Thompson&qid=1597809716&s=books&sr=1-1-fkmr0), Third Edition, 2012."
   ]
  },
  {
   "cell_type": "markdown",
   "metadata": {},
   "source": [
    "Statistical sampling is a large field of study, but in applied machine learning, there may be three types of sampling that you are likely to use: simple random sampling, systematic sampling, and stratified sampling.\n",
    "\n",
    "- **Simple Random Sampling:** Samples are drawn with a uniform probability from the domain.(the  featured image is an illustration of this)\n",
    "- **Systematic Sampling:** Samples are drawn using a pre-specified pattern, such as at intervals.\n",
    "- **Stratified Sampling:** Samples are drawn within pre-specified categories (i.e. strata).\n",
    "\n",
    "Although these are the more common types of sampling that you may encounter, there are other techniques."
   ]
  },
  {
   "cell_type": "markdown",
   "metadata": {},
   "source": [
    "### Sampling Errors\n",
    "Sampling is required to make a statistical inference about the population from a small set of observations.\n",
    "\n",
    "We can generalize properties from the sample to the population. This process of estimation and generalization is much faster than working with all possible observations, but will contain errors. In many cases, we can quantify the uncertainty of our estimates and add error bars, such as confidence intervals.\n",
    "\n",
    "There are many ways to introduce errors into your data sample.\n",
    "\n",
    "Two main types of errors include selection bias and sampling error.\n",
    "\n",
    "- **Selection Bias.** Caused when the method of drawing observations skews the sample in some way.\n",
    "- **Sampling Error.** Caused due to the random nature of drawing observations skewing the sample in some way.\n",
    "\n",
    "Other types of errors may be present, such as systematic errors in the way observations or measurements are made.\n",
    "\n",
    "In these cases and more, the statistical properties of the sample may be different from what would be expected in the idealized population, which in turn may impact the properties of the population that are being estimated.\n",
    "\n",
    "Simple methods, such as reviewing raw observations, summary statistics, and visualizations can help expose simple errors, such as measurement corruption and the over- or under- representation of a class of observations.\n",
    "\n",
    "Nevertheless, care must be taken both when sampling and when drawing conclusions about the population while sampling."
   ]
  },
  {
   "cell_type": "markdown",
   "metadata": {},
   "source": [
    "## Statistical Resampling\n",
    "Once we have a data sample, it can be used to estimate the population parameter.\n",
    "\n",
    "The problem is that we only have a single point estimate of the population parameter, with little idea of the variability or uncertainty in the estimate.\n",
    "\n",
    "One way to address this is by estimating the population parameter multiple times from our data sample. This is called **resampling**.\n",
    "\n",
    "Statistical resampling methods are procedures that describe how to economically use available data to estimate a population parameter. The result can be both a more accurate estimate of the parameter (such as taking the mean of the estimates) and a quantification of the uncertainty of the estimate (such as adding a confidence interval or confidence level).\n",
    "\n",
    "Resampling methods are very easy to use, requiring little mathematical knowledge. They are methods that are easy to understand and implement compared to specialized statistical methods that may require deep technical skill in order to select and interpret."
   ]
  },
  {
   "cell_type": "markdown",
   "metadata": {},
   "source": [
    ">The resampling methods […] are easy to learn and easy to apply. They require no mathematics beyond introductory high-school algebra, and are applicable in an exceptionally broad range of subject areas.\n",
    "\n",
    "— Page xiii, [Resampling Methods](https://www.amazon.in/Resampling-Methods-Practical-Guide-Analysis/dp/0817643869/ref=sr_1_fkmr0_1?dchild=1&keywords=Resampling+Methods%3A+A+Practical+Guide+to+Data+Analysis+3rd+Edition&qid=1597813469&s=books&sr=1-1-fkmr0): A Practical Guide to Data Analysis, 2005."
   ]
  },
  {
   "cell_type": "markdown",
   "metadata": {},
   "source": [
    "A downside of the methods is that they can be computationally very expensive, requiring tens, hundreds, or even thousands of resamples in order to develop a robust estimate of the population parameter.\n",
    "\n",
    ">The key idea is to resample form the original data — either directly or via a fitted model — to create replicate datasets, from which the variability of the quantiles of interest can be assessed without long-winded and error-prone analytical calculation. Because this approach involves repeating the original data analysis procedure with many replicate sets of data, these are sometimes called computer-intensive methods.\n",
    "\n",
    "— Page 3, [Bootstrap Methods and their Application, 1997.](https://www.amazon.in/Bootstrap-Application-Statistical-Probabilistic-Mathematics/dp/0521574714/ref=sr_1_fkmr0_1?dchild=1&keywords=Bootstrap+Methods+And+Their+Application+%28Cambridge+Series+in+Statistical+and+Probabilistic+Mathematics%29+1st+Edition&qid=1597813787&s=books&sr=1-1-fkmr0)"
   ]
  },
  {
   "cell_type": "markdown",
   "metadata": {},
   "source": [
    "Each new subsample from the original data sample is used to estimate the population parameter. The sample of estimated population parameters can then be considered with statistical tools in order to quantify the expected value and variance, providing measures of the uncertainty of the estimate.\n",
    "\n",
    "Statistical sampling methods can be used in the selection of a subsample from the original sample.\n",
    "\n",
    "A key difference is that process must be repeated multiple times. The problem with this is that there will be some relationship between the samples as observations that will be shared across multiple subsamples. This means that the subsamples and the estimated population parameters are not strictly identical and independently distributed (strictly not iids). This has implications for statistical tests performed on the sample of estimated population parameters downstream, i.e. paired statistical tests may be required.\n",
    "\n",
    "Two commonly used resampling methods that you may encounter are **k-fold cross-validation** and the **bootstrap**.\n",
    "\n",
    "- **Bootstrap.** Samples are drawn from the dataset with replacement (allowing the same sample to appear more than once in the sample), where those instances not drawn into the data sample may be used for the test set.(OOB set, -out of bag test set)\n",
    "- **k-fold Cross-Validation.** A dataset is partitioned into k groups, where each group is given the opportunity of being used as a held out test set leaving the remaining groups as the training set.\n",
    "\n",
    "The k-fold cross-validation method specifically lends itself to use in the evaluation of predictive models that are repeatedly trained on one subset of the data and evaluated on a second held-out subset of the data.\n",
    "\n",
    ">Generally, resampling techniques for estimating model performance operate similarly: a subset of samples are used to fit a model and the remaining samples are used to estimate the efficacy of the model. This process is repeated multiple times and the results are aggregated and summarized. The differences in techniques usually center around the method in which subsamples are chosen.\n",
    "\n",
    "— Page 69, [Applied Predictive Modeling](https://www.amazon.in/Applied-Predictive-Modeling-Max-Kuhn/dp/1461468485/ref=sr_1_fkmr3_1?dchild=1&keywords=Applied+Predictive+Modeling+1st+ed.+2013%2C+Corr.+2nd+printing+2018+Edition&qid=1597814575&s=books&sr=1-1-fkmr3), 2013.\n",
    "\n",
    "The bootstrap method can be used for the same purpose, but is a more general and simpler method intended for estimating a population parameter."
   ]
  },
  {
   "cell_type": "markdown",
   "metadata": {},
   "source": [
    "## Excercise\n",
    "This section lists some excercise for this tutorial that you may wish to explore.\n",
    "\n",
    "- List two examples where statistical sampling is required in a machine learning project.\n",
    "- List two examples when statistical resampling is required in a machine learning project.\n",
    "- Find a reseach paper that uses a resampling method that in turn uses a nested statistical sampling method (hint: k-fold cross validation and stratified sampling).\n",
    "\n",
    "If you explore any of these excercises, Please share with me I will be very glad."
   ]
  },
  {
   "cell_type": "markdown",
   "metadata": {},
   "source": [
    "## Further Reading\n",
    "This section provides more resources on the topic if you are looking to go deeper.\n",
    "\n",
    "#### Books\n",
    "- [Sampling](https://www.amazon.in/Sampling-Steven-K-Thompson-ebook/dp/B0078XBZ6K/ref=sr_1_fkmr0_1?dchild=1&keywords=Sampling+3rd+Edition+by+Steven+K.+Thompson&qid=1597809716&s=books&sr=1-1-fkmr0), Third Edition, 2012.\n",
    "- [Resampling Methods: A Practical Guide to Data Analysis](https://www.amazon.in/Resampling-Methods-Practical-Guide-Analysis/dp/0817643869/ref=sr_1_fkmr0_1?dchild=1&keywords=Resampling+Methods%3A+A+Practical+Guide+to+Data+Analysis+3rd+Edition&qid=1597813469&s=books&sr=1-1-fkmr0), 2005.\n",
    "- [An Introduction to the Bootstrap](https://www.amazon.in/Bootstrap-Application-Statistical-Probabilistic-Mathematics/dp/0521574714/ref=sr_1_fkmr0_1?dchild=1&keywords=Bootstrap+Methods+And+Their+Application+%28Cambridge+Series+in+Statistical+and+Probabilistic+Mathematics%29+1st+Edition&qid=1597813787&s=books&sr=1-1-fkmr0), 1994.\n",
    "- [Bootstrap Methods and their Application](https://www.amazon.in/Bootstrap-Application-Statistical-Probabilistic-Mathematics/dp/0521574714/ref=sr_1_fkmr0_1?dchild=1&keywords=Bootstrap+Methods+And+Their+Application+%28Cambridge+Series+in+Statistical+and+Probabilistic+Mathematics%29+1st+Edition&qid=1597813787&s=books&sr=1-1-fkmr0), 1997.\n",
    "- [Applied Predictive Modeling](https://www.amazon.in/Applied-Predictive-Modeling-Max-Kuhn/dp/1461468485/ref=sr_1_fkmr3_1?dchild=1&keywords=Applied+Predictive+Modeling+1st+ed.+2013%2C+Corr.+2nd+printing+2018+Edition&qid=1597814575&s=books&sr=1-1-fkmr3), 2013."
   ]
  },
  {
   "cell_type": "markdown",
   "metadata": {},
   "source": [
    "#### Articles\n",
    "- [Sample (statistics) on Wikipedia](https://en.wikipedia.org/wiki/Sample_(statistics))\n",
    "- [Simple random sample on Wikipedia](https://en.wikipedia.org/wiki/Simple_random_sample)\n",
    "- [Systematic sampling on Wikipedia](https://en.wikipedia.org/wiki/Systematic_sampling)\n",
    "- [Stratified sampling on Wikipedia](https://en.wikipedia.org/wiki/Stratified_sampling)\n",
    "- [Resampling (statistics) on Wikipedia](https://en.wikipedia.org/wiki/Resampling_(statistics))\n",
    "- [Bootstrapping (statistics) on Wikipedia](https://en.wikipedia.org/wiki/Bootstrapping_(statistics))\n",
    "- [Cross-validation (statistics) on Wikipedia](https://en.wikipedia.org/wiki/Bootstrapping_(statistics))"
   ]
  },
  {
   "cell_type": "markdown",
   "metadata": {},
   "source": [
    "## Summary\n",
    "In this tutorial, you discovered statistical sampling and statistical resampling methods for gathering and making best use of data.\n",
    "\n",
    "Specifically, you learned:\n",
    "\n",
    "- Sampling is an active process of gathering observations intent on estimating a population variable.\n",
    "- Resampling is a methodology of economically using a data sample to improve the accuracy and quantify the uncertainty of a population parameter.\n",
    "- Resampling methods, in fact, make use of a nested resampling method."
   ]
  },
  {
   "cell_type": "markdown",
   "metadata": {},
   "source": [
    "**Do you have any questions?**\n",
    "\n",
    "Ask your questions in the comments section and I will try to do my best to answer or join [my week-end classes](https://www.mlanddlguru.com/b) for further dicussions and clarification .\n",
    " \n"
   ]
  }
 ],
 "metadata": {
  "kernelspec": {
   "display_name": "Python 3",
   "language": "python",
   "name": "python3"
  },
  "language_info": {
   "codemirror_mode": {
    "name": "ipython",
    "version": 3
   },
   "file_extension": ".py",
   "mimetype": "text/x-python",
   "name": "python",
   "nbconvert_exporter": "python",
   "pygments_lexer": "ipython3",
   "version": "3.6.9"
  }
 },
 "nbformat": 4,
 "nbformat_minor": 4
}
