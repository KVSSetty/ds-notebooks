{
 "cells": [
  {
   "cell_type": "markdown",
   "metadata": {},
   "source": [
    "# Hypothesis Test for Comparing Machine Learning Algorithms"
   ]
  },
  {
   "cell_type": "markdown",
   "metadata": {},
   "source": [
    "Machine learning models are chosen based on their mean performance, often calculated using k-fold cross-validation.\n",
    "\n",
    "The algorithm with the best mean performance is expected to be better than those algorithms with poor mean performance. But what if the difference in the mean performance is caused by a statistical chance?\n",
    "\n",
    "The solution is to use a statistical hypothesis test to evaluate whether the difference in the mean performance between any two algorithms is real or not.\n",
    "\n",
    "In this tutorial, you will discover how to use statistical hypothesis tests for comparing machine learning algorithms.\n",
    "\n",
    "After completing this tutorial, you will know:\n",
    "\n",
    "* Performing model selection based on the mean model performance can be misleading.\n",
    "* The five repeats of two-fold cross-validation with a modified Student’s t-Test is a good practice for comparing machine learning algorithms.\n",
    "* How to use the **MLxtend** machine learning to compare algorithms using a statistical hypothesis test."
   ]
  },
  {
   "cell_type": "markdown",
   "metadata": {},
   "source": [
    "**Aside:** You can learn more about statistics and data science by signing in to my [week-end online classes](https://www.mlanddlguru.com/b/) or step-by-step tutorials and full source code from my [blog](https://kvssetty.com/)"
   ]
  },
  {
   "cell_type": "markdown",
   "metadata": {},
   "source": [
    "Lets get started..."
   ]
  },
  {
   "cell_type": "markdown",
   "metadata": {},
   "source": [
    "![random-sampling](../images/statistics.jpg)"
   ]
  },
  {
   "cell_type": "markdown",
   "metadata": {},
   "source": [
    "## Tutorial Overview\n",
    "This tutorial is divided into three parts; they are:\n",
    "\n",
    "* **Hypothesis Test for Comparing Algorithms**\n",
    "* **5×2 Procedure With MLxtend**\n",
    "* **Comparing Classifier Algorithms**"
   ]
  },
  {
   "cell_type": "markdown",
   "metadata": {},
   "source": [
    "## Hypothesis Test for Comparing Algorithms\n",
    "Model selection involves evaluating a suite of different machine learning algorithms or modeling pipelines and comparing them based on their performance.\n",
    "\n",
    "The model or modeling pipeline that achieves the best performance according to our performance metric is then selected as your final model that you can then use to start making predictions on unseen data/new data.\n",
    "\n",
    "This applies to regression and classification predictive modeling tasks with classical machine learning algorithms as well as  deep learning algorithms. It's always the same process.\n",
    "\n",
    "The problem is, how do you know the difference between two models is real and not just a statistical chance?\n",
    "\n",
    "This problem can be addressed using a statistical hypothesis test.\n",
    "\n",
    "One approach is to evaluate each model on the same [k-fold cross-validation](https://medium.com/@kvssetty/introduction-to-k-fold-cross-validation-2a93c783ef08) split of the data (e.g. using the same random number seed to split the data in each case) and calculate a score for each split. This would give a sample of 10 scores for 10-fold cross-validation. The scores can then be compared using a paired statistical hypothesis test because the same treatment (rows of data) was used for each algorithm to come up with each score. The Paired Student’s t-Test could be used.\n",
    "\n",
    "A problem with using the Paired Student’s t-Test, in this case, is that each evaluation of the model is not independent. This is because the same rows of data are used to train the data multiple times(specifically, **k-1** times) — actually, each time, except for the time a row of data is used in the hold-out test fold. This lack of independence in the evaluation means that the Paired Student’s t-Test is optimistically biased.\n",
    "\n",
    "This statistical test can be adjusted to take the lack of independence into account.\n",
    "\n",
    "Additionally, the number of folds and repeats of the procedure can be configured to achieve a good sampling of model performance that generalizes well to a wide range of problems and algorithms. Specifically two-fold cross-validation with five repeats, so-called 5×2-fold cross-validation.\n",
    "\n",
    "This approach was proposed by Thomas [Dietterich](https://en.wikipedia.org/wiki/Thomas_G._Dietterich) in his 1998 paper titled [Approximate Statistical Tests for Comparing Supervised Classification Learning Algorithms.](https://ieeexplore.ieee.org/document/6790639)\n",
    "\n",
    "For more on this topic, we will have a separate tutorial shortly the title:\n",
    "[Statistical Significance Tests for Comparing Machine Learning Algorithms]().\n",
    "\n",
    "\n",
    "Thankfully, we don’t need to implement this procedure ourselves."
   ]
  },
  {
   "cell_type": "markdown",
   "metadata": {},
   "source": [
    "## 5×2 Procedure With MLxtend\n",
    "The [MLxtend](http://rasbt.github.io/mlxtend/) library by [Sebastian Raschka](http://rasbt.github.io/mlxtend/user_guide/evaluate/paired_ttest_5x2cv/) provides an implementation via the `paired_ttest_5x2cv()` function.\n",
    "\n",
    "You can find some info in the medium article [5 Obscure Python Libraries Every Data Scientist Should Know](https://medium.com/analytics-vidhya/5-obscure-python-libraries-every-data-scientist-should-know-3651bf5d3be3)\n",
    "\n",
    "First, you must install the mlxtend library, for example:"
   ]
  },
  {
   "cell_type": "markdown",
   "metadata": {},
   "source": [
    "```conda install -c conda-forge mlxtend\n",
    "```"
   ]
  },
  {
   "cell_type": "markdown",
   "metadata": {},
   "source": [
    "```\n",
    "conda install -c conda-forge mlxtend\n",
    "\n",
    "# or\n",
    "\n",
    "pip install mlxtend\n",
    "```"
   ]
  },
  {
   "cell_type": "markdown",
   "metadata": {},
   "source": [
    "To use the evaluation, you must first load your dataset, then define the two models that you wish to compare."
   ]
  },
  {
   "cell_type": "markdown",
   "metadata": {},
   "source": [
    "```python...\n",
    "# load data\n",
    "X, y = ....\n",
    "# define models\n",
    "model1 = ...\n",
    "model2 = ...\n",
    "```"
   ]
  },
  {
   "cell_type": "markdown",
   "metadata": {},
   "source": [
    "You can then call the `paired_ttest_5x2cv()` function and pass in your data and models and it will report the t-statistic value and the p-value as to whether the difference in the performance of the two algorithms is significant or not."
   ]
  },
  {
   "cell_type": "markdown",
   "metadata": {},
   "source": [
    "```python\n",
    "...\n",
    "# compare algorithms\n",
    "t, p = paired_ttest_5x2cv(estimator1=model1, estimator2=model2, X=X, y=y)\n",
    "```"
   ]
  },
  {
   "cell_type": "markdown",
   "metadata": {},
   "source": [
    "The p-value must be interpreted using an alpha value, which is the significance level that you are willing to accept.(usually 0.01,0.05,0.1)\n",
    "\n",
    "If the p-value is less or equal to the chosen alpha, we reject the null hypothesis that the models have the same mean performance, which means the difference is probably real. If the p-value is greater than alpha, we fail to reject the null hypothesis that the models have the same mean performance and any observed difference in the mean accuracies is probability a statistical chance.\n",
    "\n",
    "The smaller the alpha value, the better, and a common value is 5 percent (0.05)."
   ]
  },
  {
   "cell_type": "markdown",
   "metadata": {},
   "source": [
    "```python\n",
    "...\n",
    "# interpret the result\n",
    "if p <= 0.05:\n",
    "    print('Difference between mean performance is probably real')\n",
    "else:\n",
    "    print('Algorithms probably have the same performance')\n",
    "```"
   ]
  },
  {
   "cell_type": "markdown",
   "metadata": {},
   "source": [
    "Now that we are familiar with the way to use a hypothesis test to compare algorithms, let's look at some examples."
   ]
  },
  {
   "cell_type": "markdown",
   "metadata": {},
   "source": [
    "## Comparing Classifier Algorithms\n",
    "In this section, let’s compare the performance of two machine learning algorithms on a binary classification task, then check if the observed difference is statistically significant or not.\n",
    "\n",
    "First, we can use the [`make_classification()`](https://scikit-learn.org/stable/modules/generated/sklearn.datasets.make_classification.html) function to create a synthetic dataset with 1,000 samples and 20 input variables.\n",
    "\n",
    "The example below creates the dataset and summarizes its shape."
   ]
  },
  {
   "cell_type": "code",
   "execution_count": 1,
   "metadata": {},
   "outputs": [
    {
     "name": "stdout",
     "output_type": "stream",
     "text": [
      "(1000, 10) (1000,)\n"
     ]
    }
   ],
   "source": [
    "# create classification dataset\n",
    "from sklearn.datasets import make_classification\n",
    "# define dataset\n",
    "X, y = make_classification(n_samples=1000, n_features=10, n_informative=10, n_redundant=0, random_state=1)\n",
    "# summarize the dataset\n",
    "print(X.shape, y.shape)"
   ]
  },
  {
   "cell_type": "markdown",
   "metadata": {},
   "source": [
    "Running the example creates the dataset and summarizes the number of rows and columns, confirming our expectations.\n",
    "\n",
    "We can use this data as the basis for comparing two algorithms."
   ]
  },
  {
   "cell_type": "markdown",
   "metadata": {},
   "source": [
    "We will compare the performance of two linear algorithms on this dataset. Specifically, a [logistic regression](https://scikit-learn.org/stable/modules/linear_model.html) algorithm and a [linear discriminant analysis (LDA)](https://scikit-learn.org/stable/modules/lda_qda.html) algorithm.\n",
    "\n",
    "The procedure we like to use is repeated stratified k-fold cross-validation with 10 folds and three repeats(so,we will have 30 performance estimations for each model). We will use this procedure to evaluate each algorithm and return and report the mean classification accuracy.\n",
    "\n",
    "The complete example is listed below."
   ]
  },
  {
   "cell_type": "code",
   "execution_count": 2,
   "metadata": {},
   "outputs": [],
   "source": [
    "# compare logistic regression and lda for binary classification\n",
    "%matplotlib inline\n",
    "import numpy as np\n",
    "from sklearn.datasets import make_classification\n",
    "from sklearn.model_selection import cross_val_score\n",
    "from sklearn.model_selection import RepeatedStratifiedKFold\n",
    "from sklearn.linear_model import LogisticRegression\n",
    "from sklearn.discriminant_analysis import LinearDiscriminantAnalysis\n",
    "import matplotlib.pyplot as pyplot"
   ]
  },
  {
   "cell_type": "code",
   "execution_count": 3,
   "metadata": {},
   "outputs": [
    {
     "name": "stdout",
     "output_type": "stream",
     "text": [
      "LogisticRegression Mean Accuracy: 0.892 (0.025)\n",
      "LinearDiscriminantAnalysis Mean Accuracy: 0.894 (0.025)\n"
     ]
    },
    {
     "data": {
      "image/png": "[encoded data removed]",
      "text/plain": [
       "<Figure size 432x288 with 1 Axes>"
      ]
     },
     "metadata": {
      "needs_background": "light"
     },
     "output_type": "display_data"
    }
   ],
   "source": [
    "# define dataset\n",
    "X, y = make_classification(n_samples=1000, n_features=10, n_informative=10, n_redundant=0, random_state=1)\n",
    "# evaluate model 1\n",
    "model1 = LogisticRegression()\n",
    "cv1 = RepeatedStratifiedKFold(n_splits=10, n_repeats=3, random_state=26)\n",
    "scores1 = cross_val_score(model1, X, y, scoring='accuracy', cv=cv1, n_jobs=-1)\n",
    "print('LogisticRegression Mean Accuracy: %.3f (%.3f)' % (np.mean(scores1), np.std(scores1)))\n",
    "# evaluate model 2\n",
    "model2 = LinearDiscriminantAnalysis()\n",
    "cv2 = RepeatedStratifiedKFold(n_splits=10, n_repeats=3, random_state=26)\n",
    "scores2 = cross_val_score(model2, X, y, scoring='accuracy', cv=cv2, n_jobs=-1)\n",
    "print('LinearDiscriminantAnalysis Mean Accuracy: %.3f (%.3f)' % (np.mean(scores2), np.std(scores2)))\n",
    "# plot the results\n",
    "pyplot.boxplot([scores1, scores2], labels=['LR', 'LDA'], showmeans=True)\n",
    "pyplot.show()"
   ]
  },
  {
   "cell_type": "markdown",
   "metadata": {},
   "source": [
    "Running the example first reports the mean classification accuracy for each algorithm.\n",
    "\n",
    "Your specific results may differ given the stochastic nature of the learning algorithms and evaluation procedure. Try running the example a few times.\n",
    "\n",
    "In this case, the results suggest that LDA has better performance if we just look at the mean scores: 89.2 percent for logistic regression and 89.4 percent for LDA."
   ]
  },
  {
   "cell_type": "markdown",
   "metadata": {},
   "source": [
    "A box and whisker plot is also created summarizing the distribution of accuracy scores.\n",
    "\n",
    "This plot would support my decision in choosing LDA over LR."
   ]
  },
  {
   "cell_type": "markdown",
   "metadata": {},
   "source": [
    "Now we can use a hypothesis test to see if the observed results are statistically significant.\n",
    "\n",
    "First, we will use the 5×2 procedure to evaluate the algorithms and calculate a p-value and test statistic value."
   ]
  },
  {
   "cell_type": "markdown",
   "metadata": {},
   "source": [
    "```python\n",
    "...\n",
    "# check if difference between algorithms is real or is it just by chance.\n",
    "t, p = paired_ttest_5x2cv(estimator1=model1, estimator2=model2, X=X, y=y, scoring='accuracy', random_seed=26)\n",
    "# summarize\n",
    "print('P-value: %.3f, t-Statistic: %.3f' % (p, t))\n",
    "```"
   ]
  },
  {
   "cell_type": "markdown",
   "metadata": {},
   "source": [
    "We can then interpret the p-value using an alpha of 5 percent."
   ]
  },
  {
   "cell_type": "markdown",
   "metadata": {},
   "source": [
    "```python\n",
    "...\n",
    "# interpret the result\n",
    "if p <= 0.05:\n",
    "\tprint('Difference between mean performance is probably real')\n",
    "else:\n",
    "\tprint('Algorithms probably have the same performance')\n",
    "```    "
   ]
  },
  {
   "cell_type": "markdown",
   "metadata": {},
   "source": [
    "combining all the snippets together, the complete example is listed below."
   ]
  },
  {
   "cell_type": "code",
   "execution_count": 4,
   "metadata": {},
   "outputs": [],
   "source": [
    "# use 5x2 statistical hypothesis testing procedure to compare two machine learning algorithms\n",
    "from mlxtend.evaluate import paired_ttest_5x2cv"
   ]
  },
  {
   "cell_type": "code",
   "execution_count": 5,
   "metadata": {},
   "outputs": [
    {
     "name": "stdout",
     "output_type": "stream",
     "text": [
      "LogisticRegression Mean Accuracy: 0.860 (0.037)\n",
      "LinearDiscriminantAnalysis Mean Accuracy: 0.855 (0.039)\n",
      "P-value: 0.049, t-Statistic: -2.596\n",
      "Difference between mean performance is probably real\n"
     ]
    }
   ],
   "source": [
    "# define dataset\n",
    "X, y = make_classification(n_samples=1000, n_features=10, n_informative=10, n_redundant=0, random_state=26)\n",
    "# evaluate model 1\n",
    "model1 = LogisticRegression()\n",
    "cv1 = RepeatedStratifiedKFold(n_splits=10, n_repeats=3, random_state=26)\n",
    "scores1 = cross_val_score(model1, X, y, scoring='accuracy', cv=cv1, n_jobs=-1)\n",
    "print('LogisticRegression Mean Accuracy: %.3f (%.3f)' % (np.mean(scores1), np.std(scores1)))\n",
    "# evaluate model 2\n",
    "model2 = LinearDiscriminantAnalysis()\n",
    "cv2 = RepeatedStratifiedKFold(n_splits=10, n_repeats=3, random_state=26)\n",
    "scores2 = cross_val_score(model2, X, y, scoring='accuracy', cv=cv2, n_jobs=-1)\n",
    "print('LinearDiscriminantAnalysis Mean Accuracy: %.3f (%.3f)' % (np.mean(scores2), np.std(scores2)))\n",
    "# check if difference between algorithms is real\n",
    "t, p = paired_ttest_5x2cv(estimator1=model1, estimator2=model2, X=X, y=y, scoring='accuracy', random_seed=26)\n",
    "# summarize\n",
    "print('P-value: %.3f, t-Statistic: %.3f' % (p, t))\n",
    "# interpret the result\n",
    "if p <= 0.05:\n",
    "    print('Difference between mean performance is probably real')\n",
    "else:\n",
    "    print('Algorithms probably have the same performance')"
   ]
  },
  {
   "cell_type": "markdown",
   "metadata": {},
   "source": [
    "Running the example, we first evaluate the algorithms before, then report on the result of the statistical hypothesis test.\n",
    "\n",
    "Your specific results may differ given the stochastic nature of the learning algorithms and evaluation procedure. Try running the example a few times.\n",
    "\n",
    "In this case, we can see that the p-value is about 0.049, which is marginally than 0.05. This leads us to reject the null hypothesis, suggesting that any observed difference between the algorithms is probably real.\n",
    "\n",
    "We could just as easily choose logistic regression or LDA and both would perform about the same on average.\n",
    "\n",
    "This highlights that performing model selection based only on the mean performance may not be sufficient.\n",
    "\n",
    "Recall that we are reporting performance using a different procedure (3×10 CV) than the procedure used to estimate the performance in the statistical test (5×2 CV). Perhaps results would be different if we looked at scores using five repeats of two-fold cross-validation?\n",
    "\n",
    "The example below is updated to report classification accuracy for each algorithm using 5×2 CV."
   ]
  },
  {
   "cell_type": "code",
   "execution_count": 6,
   "metadata": {},
   "outputs": [
    {
     "name": "stdout",
     "output_type": "stream",
     "text": [
      "LogisticRegression Mean Accuracy: 0.850 (0.015)\n",
      "LinearDiscriminantAnalysis Mean Accuracy: 0.848 (0.016)\n",
      "P-value: 0.049, t-Statistic: -2.596\n",
      "Difference between mean performance is probably real\n"
     ]
    }
   ],
   "source": [
    "# use 5x2 statistical hypothesis testing procedure to compare two machine learning algorithms\n",
    "# define dataset\n",
    "X, y = make_classification(n_samples=1000, n_features=10, n_informative=10, n_redundant=0, random_state=26)\n",
    "# evaluate model 1\n",
    "model1 = LogisticRegression()\n",
    "cv1 = RepeatedStratifiedKFold(n_splits=2, n_repeats=5, random_state=26)\n",
    "scores1 = cross_val_score(model1, X, y, scoring='accuracy', cv=cv1, n_jobs=-1)\n",
    "print('LogisticRegression Mean Accuracy: %.3f (%.3f)' % (np.mean(scores1), np.std(scores1)))\n",
    "# evaluate model 2\n",
    "model2 = LinearDiscriminantAnalysis()\n",
    "cv2 = RepeatedStratifiedKFold(n_splits=2, n_repeats=5, random_state=26)\n",
    "scores2 = cross_val_score(model2, X, y, scoring='accuracy', cv=cv2, n_jobs=-1)\n",
    "print('LinearDiscriminantAnalysis Mean Accuracy: %.3f (%.3f)' % (np.mean(scores2), np.std(scores2)))\n",
    "# check if difference between algorithms is real\n",
    "t, p = paired_ttest_5x2cv(estimator1=model1, estimator2=model2, X=X, y=y, scoring='accuracy', random_seed=26)\n",
    "# summarize\n",
    "print('P-value: %.3f, t-Statistic: %.3f' % (p, t))\n",
    "# interpret the result\n",
    "if p <= 0.05:\n",
    "    print('Difference between mean performance is probably real')\n",
    "else:\n",
    "    print('Algorithms probably have the same performance')"
   ]
  },
  {
   "cell_type": "markdown",
   "metadata": {},
   "source": [
    "Running the example reports the mean accuracy for both algorithms and the results of the statistical test.\n",
    "\n",
    "Your specific results may differ given the stochastic nature of the learning algorithms and evaluation procedure. Try running the example a few times.\n",
    "\n",
    "In this case, we can see that the difference in the mean performance for the two algorithms is even larger, 85.00 percent vs. 84.8.0 percent in favor of logistic regression instead of LDA as we saw with 3×10 CV."
   ]
  },
  {
   "cell_type": "markdown",
   "metadata": {},
   "source": [
    "## Further Reading\n",
    "This section provides more resources on the topic if you are looking to go deeper.\n",
    "### papers\n",
    "[Approximate Statistical Tests for Comparing Supervised Classification Learning Algorithms, 1998.](https://ieeexplore.ieee.org/document/6790639)\n",
    "### APIs\n",
    "[MLxtend Library](http://rasbt.github.io/mlxtend/)\n",
    "\n",
    "[5x2cv paired t test API.](http://rasbt.github.io/mlxtend/user_guide/evaluate/paired_ttest_5x2cv/)"
   ]
  },
  {
   "cell_type": "markdown",
   "metadata": {},
   "source": [
    "## Summary\n",
    "In this tutorial, you discovered how to use statistical hypothesis tests for comparing machine learning algorithms.\n",
    "\n",
    "Specifically, you learned:\n",
    "\n",
    "* Performing model selection based on the mean model performance can be misleading.\n",
    "* The five repeats of two-fold cross-validation with a modified Student’s t-Test is a good practice for comparing machine learning algorithms.\n",
    "* How to use the MLxtend machine learning to compare algorithms using a statistical hypothesis test."
   ]
  },
  {
   "cell_type": "markdown",
   "metadata": {},
   "source": [
    "## Do you have any questions?\n",
    "Ask your questions in the comments below and I will try to do my best to answer."
   ]
  }
 ],
 "metadata": {
  "kernelspec": {
   "display_name": "Python 3",
   "language": "python",
   "name": "python3"
  },
  "language_info": {
   "codemirror_mode": {
    "name": "ipython",
    "version": 3
   },
   "file_extension": ".py",
   "mimetype": "text/x-python",
   "name": "python",
   "nbconvert_exporter": "python",
   "pygments_lexer": "ipython3",
   "version": "3.6.9"
  }
 },
 "nbformat": 4,
 "nbformat_minor": 4
}
